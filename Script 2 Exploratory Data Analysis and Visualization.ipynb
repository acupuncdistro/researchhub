{
 "cells": [
  {
   "cell_type": "markdown",
   "metadata": {},
   "source": [
    "# SCRIPT 2: Exploratory Data Analysis and Visualization"
   ]
  },
  {
   "cell_type": "markdown",
   "metadata": {},
   "source": [
    "## Load packages"
   ]
  },
  {
   "cell_type": "code",
   "execution_count": 1,
   "metadata": {
    "collapsed": true
   },
   "outputs": [],
   "source": [
    "from scipy import stats\n",
    "import pandas as pd\n",
    "import matplotlib.pyplot as plt\n",
    "import seaborn as sns"
   ]
  },
  {
   "cell_type": "markdown",
   "metadata": {},
   "source": [
    "## Load Intermediate Dataset output from Script 1:"
   ]
  },
  {
   "cell_type": "code",
   "execution_count": 3,
   "metadata": {
    "collapsed": true
   },
   "outputs": [],
   "source": [
    "df = pd.read_excel('./acupuncture_analysis_input.xlsx')"
   ]
  },
  {
   "cell_type": "code",
   "execution_count": 4,
   "metadata": {},
   "outputs": [
    {
     "data": {
      "text/html": [
       "<div>\n",
       "<style>\n",
       "    .dataframe thead tr:only-child th {\n",
       "        text-align: right;\n",
       "    }\n",
       "\n",
       "    .dataframe thead th {\n",
       "        text-align: left;\n",
       "    }\n",
       "\n",
       "    .dataframe tbody tr th {\n",
       "        vertical-align: top;\n",
       "    }\n",
       "</style>\n",
       "<table border=\"1\" class=\"dataframe\">\n",
       "  <thead>\n",
       "    <tr style=\"text-align: right;\">\n",
       "      <th></th>\n",
       "      <th>id</th>\n",
       "      <th>age</th>\n",
       "      <th>sex</th>\n",
       "      <th>acupuncturist</th>\n",
       "      <th>group</th>\n",
       "      <th>migraine</th>\n",
       "      <th>chronicity</th>\n",
       "      <th>delta5</th>\n",
       "      <th>globaldelta</th>\n",
       "      <th>f1</th>\n",
       "      <th>f5</th>\n",
       "      <th>pf1</th>\n",
       "      <th>pf5</th>\n",
       "      <th>ef1</th>\n",
       "      <th>ef5</th>\n",
       "      <th>changeinpainmeds</th>\n",
       "      <th>totaldos</th>\n",
       "    </tr>\n",
       "  </thead>\n",
       "  <tbody>\n",
       "    <tr>\n",
       "      <th>0</th>\n",
       "      <td>100</td>\n",
       "      <td>47</td>\n",
       "      <td>1</td>\n",
       "      <td>12</td>\n",
       "      <td>1</td>\n",
       "      <td>1</td>\n",
       "      <td>35</td>\n",
       "      <td>NaN</td>\n",
       "      <td>NaN</td>\n",
       "      <td>8.0</td>\n",
       "      <td>0.00</td>\n",
       "      <td>100.0</td>\n",
       "      <td>NaN</td>\n",
       "      <td>80.0</td>\n",
       "      <td>NaN</td>\n",
       "      <td>NaN</td>\n",
       "      <td>NaN</td>\n",
       "    </tr>\n",
       "    <tr>\n",
       "      <th>1</th>\n",
       "      <td>101</td>\n",
       "      <td>52</td>\n",
       "      <td>1</td>\n",
       "      <td>12</td>\n",
       "      <td>0</td>\n",
       "      <td>1</td>\n",
       "      <td>8</td>\n",
       "      <td>NaN</td>\n",
       "      <td>NaN</td>\n",
       "      <td>4.0</td>\n",
       "      <td>0.00</td>\n",
       "      <td>25.0</td>\n",
       "      <td>NaN</td>\n",
       "      <td>35.0</td>\n",
       "      <td>NaN</td>\n",
       "      <td>NaN</td>\n",
       "      <td>6.0</td>\n",
       "    </tr>\n",
       "    <tr>\n",
       "      <th>2</th>\n",
       "      <td>104</td>\n",
       "      <td>32</td>\n",
       "      <td>1</td>\n",
       "      <td>12</td>\n",
       "      <td>0</td>\n",
       "      <td>1</td>\n",
       "      <td>14</td>\n",
       "      <td>0.666667</td>\n",
       "      <td>NaN</td>\n",
       "      <td>12.0</td>\n",
       "      <td>13.33</td>\n",
       "      <td>95.0</td>\n",
       "      <td>100.0</td>\n",
       "      <td>60.0</td>\n",
       "      <td>65.0</td>\n",
       "      <td>21.0</td>\n",
       "      <td>3.0</td>\n",
       "    </tr>\n",
       "    <tr>\n",
       "      <th>3</th>\n",
       "      <td>105</td>\n",
       "      <td>53</td>\n",
       "      <td>1</td>\n",
       "      <td>9</td>\n",
       "      <td>0</td>\n",
       "      <td>1</td>\n",
       "      <td>10</td>\n",
       "      <td>NaN</td>\n",
       "      <td>NaN</td>\n",
       "      <td>21.0</td>\n",
       "      <td>0.00</td>\n",
       "      <td>85.0</td>\n",
       "      <td>NaN</td>\n",
       "      <td>55.0</td>\n",
       "      <td>NaN</td>\n",
       "      <td>NaN</td>\n",
       "      <td>NaN</td>\n",
       "    </tr>\n",
       "    <tr>\n",
       "      <th>4</th>\n",
       "      <td>108</td>\n",
       "      <td>56</td>\n",
       "      <td>1</td>\n",
       "      <td>9</td>\n",
       "      <td>0</td>\n",
       "      <td>1</td>\n",
       "      <td>40</td>\n",
       "      <td>-6.749999</td>\n",
       "      <td>NaN</td>\n",
       "      <td>14.0</td>\n",
       "      <td>15.00</td>\n",
       "      <td>70.0</td>\n",
       "      <td>55.0</td>\n",
       "      <td>20.0</td>\n",
       "      <td>15.0</td>\n",
       "      <td>5.0</td>\n",
       "      <td>23.0</td>\n",
       "    </tr>\n",
       "  </tbody>\n",
       "</table>\n",
       "</div>"
      ],
      "text/plain": [
       "    id  age  sex  acupuncturist  group  migraine  chronicity    delta5  \\\n",
       "0  100   47    1             12      1         1          35       NaN   \n",
       "1  101   52    1             12      0         1           8       NaN   \n",
       "2  104   32    1             12      0         1          14  0.666667   \n",
       "3  105   53    1              9      0         1          10       NaN   \n",
       "4  108   56    1              9      0         1          40 -6.749999   \n",
       "\n",
       "   globaldelta    f1     f5    pf1    pf5   ef1   ef5  changeinpainmeds  \\\n",
       "0          NaN   8.0   0.00  100.0    NaN  80.0   NaN               NaN   \n",
       "1          NaN   4.0   0.00   25.0    NaN  35.0   NaN               NaN   \n",
       "2          NaN  12.0  13.33   95.0  100.0  60.0  65.0              21.0   \n",
       "3          NaN  21.0   0.00   85.0    NaN  55.0   NaN               NaN   \n",
       "4          NaN  14.0  15.00   70.0   55.0  20.0  15.0               5.0   \n",
       "\n",
       "   totaldos  \n",
       "0       NaN  \n",
       "1       6.0  \n",
       "2       3.0  \n",
       "3       NaN  \n",
       "4      23.0  "
      ]
     },
     "execution_count": 4,
     "metadata": {},
     "output_type": "execute_result"
    }
   ],
   "source": [
    "df.head()"
   ]
  },
  {
   "cell_type": "markdown",
   "metadata": {},
   "source": [
    "-Looks like Delta5, Global Delta, p5, e5, change in meds and totados has Nulls"
   ]
  },
  {
   "cell_type": "code",
   "execution_count": 23,
   "metadata": {},
   "outputs": [
    {
     "data": {
      "text/plain": [
       "True     225\n",
       "False    176\n",
       "Name: globaldelta, dtype: int64"
      ]
     },
     "execution_count": 23,
     "metadata": {},
     "output_type": "execute_result"
    }
   ],
   "source": [
    "df['globaldelta'].isnull().value_counts()"
   ]
  },
  {
   "cell_type": "markdown",
   "metadata": {},
   "source": [
    "## Inspect Data Types"
   ]
  },
  {
   "cell_type": "code",
   "execution_count": 20,
   "metadata": {},
   "outputs": [
    {
     "data": {
      "text/plain": [
       "age                   int64\n",
       "sex                   int64\n",
       "acupuncturist         int64\n",
       "group                 int64\n",
       "migraine              int64\n",
       "chronicity            int64\n",
       "delta5              float64\n",
       "globaldelta         float64\n",
       "f1                  float64\n",
       "f5                  float64\n",
       "pf1                 float64\n",
       "pf5                 float64\n",
       "ef1                 float64\n",
       "ef5                 float64\n",
       "changeinpainmeds    float64\n",
       "totaldos            float64\n",
       "dtype: object"
      ]
     },
     "execution_count": 20,
     "metadata": {},
     "output_type": "execute_result"
    }
   ],
   "source": [
    "df[list(df.columns[1:])].dtypes"
   ]
  },
  {
   "cell_type": "code",
   "execution_count": 17,
   "metadata": {},
   "outputs": [
    {
     "data": {
      "text/html": [
       "<div>\n",
       "<style>\n",
       "    .dataframe thead tr:only-child th {\n",
       "        text-align: right;\n",
       "    }\n",
       "\n",
       "    .dataframe thead th {\n",
       "        text-align: left;\n",
       "    }\n",
       "\n",
       "    .dataframe tbody tr th {\n",
       "        vertical-align: top;\n",
       "    }\n",
       "</style>\n",
       "<table border=\"1\" class=\"dataframe\">\n",
       "  <thead>\n",
       "    <tr style=\"text-align: right;\">\n",
       "      <th></th>\n",
       "      <th>age</th>\n",
       "      <th>sex</th>\n",
       "      <th>acupuncturist</th>\n",
       "      <th>group</th>\n",
       "      <th>migraine</th>\n",
       "      <th>chronicity</th>\n",
       "      <th>delta5</th>\n",
       "      <th>globaldelta</th>\n",
       "      <th>f1</th>\n",
       "      <th>f5</th>\n",
       "      <th>pf1</th>\n",
       "      <th>pf5</th>\n",
       "      <th>ef1</th>\n",
       "      <th>ef5</th>\n",
       "      <th>changeinpainmeds</th>\n",
       "      <th>totaldos</th>\n",
       "    </tr>\n",
       "  </thead>\n",
       "  <tbody>\n",
       "    <tr>\n",
       "      <th>count</th>\n",
       "      <td>401.000000</td>\n",
       "      <td>401.000000</td>\n",
       "      <td>401.000000</td>\n",
       "      <td>401.000000</td>\n",
       "      <td>401.000000</td>\n",
       "      <td>401.000000</td>\n",
       "      <td>301.000000</td>\n",
       "      <td>176.000000</td>\n",
       "      <td>401.000000</td>\n",
       "      <td>401.000000</td>\n",
       "      <td>398.000000</td>\n",
       "      <td>295.000000</td>\n",
       "      <td>400.000000</td>\n",
       "      <td>297.000000</td>\n",
       "      <td>301.000000</td>\n",
       "      <td>333.000000</td>\n",
       "    </tr>\n",
       "    <tr>\n",
       "      <th>mean</th>\n",
       "      <td>45.538653</td>\n",
       "      <td>0.840399</td>\n",
       "      <td>5.985037</td>\n",
       "      <td>0.511222</td>\n",
       "      <td>0.940150</td>\n",
       "      <td>21.458853</td>\n",
       "      <td>6.486489</td>\n",
       "      <td>2.090909</td>\n",
       "      <td>16.180424</td>\n",
       "      <td>9.318529</td>\n",
       "      <td>82.204076</td>\n",
       "      <td>82.425612</td>\n",
       "      <td>49.595833</td>\n",
       "      <td>54.859708</td>\n",
       "      <td>27.594684</td>\n",
       "      <td>11.099850</td>\n",
       "    </tr>\n",
       "    <tr>\n",
       "      <th>std</th>\n",
       "      <td>11.050300</td>\n",
       "      <td>0.366693</td>\n",
       "      <td>2.804421</td>\n",
       "      <td>0.500499</td>\n",
       "      <td>0.237506</td>\n",
       "      <td>13.766406</td>\n",
       "      <td>11.840641</td>\n",
       "      <td>2.965078</td>\n",
       "      <td>6.703669</td>\n",
       "      <td>8.456303</td>\n",
       "      <td>21.174698</td>\n",
       "      <td>21.875471</td>\n",
       "      <td>20.093675</td>\n",
       "      <td>20.684807</td>\n",
       "      <td>47.371319</td>\n",
       "      <td>14.412725</td>\n",
       "    </tr>\n",
       "    <tr>\n",
       "      <th>min</th>\n",
       "      <td>18.000000</td>\n",
       "      <td>0.000000</td>\n",
       "      <td>1.000000</td>\n",
       "      <td>0.000000</td>\n",
       "      <td>0.000000</td>\n",
       "      <td>1.000000</td>\n",
       "      <td>-29.000000</td>\n",
       "      <td>-5.000000</td>\n",
       "      <td>3.000000</td>\n",
       "      <td>0.000000</td>\n",
       "      <td>0.000000</td>\n",
       "      <td>0.000000</td>\n",
       "      <td>0.000000</td>\n",
       "      <td>5.000000</td>\n",
       "      <td>-78.000000</td>\n",
       "      <td>0.000000</td>\n",
       "    </tr>\n",
       "    <tr>\n",
       "      <th>25%</th>\n",
       "      <td>39.000000</td>\n",
       "      <td>1.000000</td>\n",
       "      <td>3.000000</td>\n",
       "      <td>0.000000</td>\n",
       "      <td>1.000000</td>\n",
       "      <td>10.000000</td>\n",
       "      <td>-0.499998</td>\n",
       "      <td>0.000000</td>\n",
       "      <td>10.000000</td>\n",
       "      <td>0.000000</td>\n",
       "      <td>75.000000</td>\n",
       "      <td>75.000000</td>\n",
       "      <td>35.000000</td>\n",
       "      <td>40.000000</td>\n",
       "      <td>1.000000</td>\n",
       "      <td>2.000000</td>\n",
       "    </tr>\n",
       "    <tr>\n",
       "      <th>50%</th>\n",
       "      <td>48.000000</td>\n",
       "      <td>1.000000</td>\n",
       "      <td>6.000000</td>\n",
       "      <td>1.000000</td>\n",
       "      <td>1.000000</td>\n",
       "      <td>20.000000</td>\n",
       "      <td>6.250000</td>\n",
       "      <td>2.000000</td>\n",
       "      <td>15.000000</td>\n",
       "      <td>8.000000</td>\n",
       "      <td>90.000000</td>\n",
       "      <td>90.000000</td>\n",
       "      <td>50.000000</td>\n",
       "      <td>55.000000</td>\n",
       "      <td>12.000000</td>\n",
       "      <td>6.000000</td>\n",
       "    </tr>\n",
       "    <tr>\n",
       "      <th>75%</th>\n",
       "      <td>53.000000</td>\n",
       "      <td>1.000000</td>\n",
       "      <td>8.000000</td>\n",
       "      <td>1.000000</td>\n",
       "      <td>1.000000</td>\n",
       "      <td>31.000000</td>\n",
       "      <td>11.750000</td>\n",
       "      <td>4.000000</td>\n",
       "      <td>21.000000</td>\n",
       "      <td>14.000000</td>\n",
       "      <td>95.000000</td>\n",
       "      <td>100.000000</td>\n",
       "      <td>65.000000</td>\n",
       "      <td>70.000000</td>\n",
       "      <td>39.000000</td>\n",
       "      <td>15.000000</td>\n",
       "    </tr>\n",
       "    <tr>\n",
       "      <th>max</th>\n",
       "      <td>65.000000</td>\n",
       "      <td>1.000000</td>\n",
       "      <td>12.000000</td>\n",
       "      <td>1.000000</td>\n",
       "      <td>1.000000</td>\n",
       "      <td>54.000000</td>\n",
       "      <td>55.750000</td>\n",
       "      <td>10.000000</td>\n",
       "      <td>28.000000</td>\n",
       "      <td>28.000000</td>\n",
       "      <td>100.000000</td>\n",
       "      <td>100.000000</td>\n",
       "      <td>95.000000</td>\n",
       "      <td>95.000000</td>\n",
       "      <td>262.000000</td>\n",
       "      <td>92.000000</td>\n",
       "    </tr>\n",
       "  </tbody>\n",
       "</table>\n",
       "</div>"
      ],
      "text/plain": [
       "              age         sex  acupuncturist       group    migraine  \\\n",
       "count  401.000000  401.000000     401.000000  401.000000  401.000000   \n",
       "mean    45.538653    0.840399       5.985037    0.511222    0.940150   \n",
       "std     11.050300    0.366693       2.804421    0.500499    0.237506   \n",
       "min     18.000000    0.000000       1.000000    0.000000    0.000000   \n",
       "25%     39.000000    1.000000       3.000000    0.000000    1.000000   \n",
       "50%     48.000000    1.000000       6.000000    1.000000    1.000000   \n",
       "75%     53.000000    1.000000       8.000000    1.000000    1.000000   \n",
       "max     65.000000    1.000000      12.000000    1.000000    1.000000   \n",
       "\n",
       "       chronicity      delta5  globaldelta          f1          f5  \\\n",
       "count  401.000000  301.000000   176.000000  401.000000  401.000000   \n",
       "mean    21.458853    6.486489     2.090909   16.180424    9.318529   \n",
       "std     13.766406   11.840641     2.965078    6.703669    8.456303   \n",
       "min      1.000000  -29.000000    -5.000000    3.000000    0.000000   \n",
       "25%     10.000000   -0.499998     0.000000   10.000000    0.000000   \n",
       "50%     20.000000    6.250000     2.000000   15.000000    8.000000   \n",
       "75%     31.000000   11.750000     4.000000   21.000000   14.000000   \n",
       "max     54.000000   55.750000    10.000000   28.000000   28.000000   \n",
       "\n",
       "              pf1         pf5         ef1         ef5  changeinpainmeds  \\\n",
       "count  398.000000  295.000000  400.000000  297.000000        301.000000   \n",
       "mean    82.204076   82.425612   49.595833   54.859708         27.594684   \n",
       "std     21.174698   21.875471   20.093675   20.684807         47.371319   \n",
       "min      0.000000    0.000000    0.000000    5.000000        -78.000000   \n",
       "25%     75.000000   75.000000   35.000000   40.000000          1.000000   \n",
       "50%     90.000000   90.000000   50.000000   55.000000         12.000000   \n",
       "75%     95.000000  100.000000   65.000000   70.000000         39.000000   \n",
       "max    100.000000  100.000000   95.000000   95.000000        262.000000   \n",
       "\n",
       "         totaldos  \n",
       "count  333.000000  \n",
       "mean    11.099850  \n",
       "std     14.412725  \n",
       "min      0.000000  \n",
       "25%      2.000000  \n",
       "50%      6.000000  \n",
       "75%     15.000000  \n",
       "max     92.000000  "
      ]
     },
     "execution_count": 17,
     "metadata": {},
     "output_type": "execute_result"
    }
   ],
   "source": [
    "df[list(df.columns[1:])].describe()"
   ]
  },
  {
   "cell_type": "markdown",
   "metadata": {},
   "source": [
    "# Hypothesis Testing 1: Analyzing the Change in self-reported headache relief from the acupuncture and control groups."
   ]
  },
  {
   "cell_type": "markdown",
   "metadata": {},
   "source": [
    "## Check data for nulls and filter our variables into treatment and control groups"
   ]
  },
  {
   "cell_type": "code",
   "execution_count": 75,
   "metadata": {
    "scrolled": true
   },
   "outputs": [
    {
     "data": {
      "text/html": [
       "<div>\n",
       "<style>\n",
       "    .dataframe thead tr:only-child th {\n",
       "        text-align: right;\n",
       "    }\n",
       "\n",
       "    .dataframe thead th {\n",
       "        text-align: left;\n",
       "    }\n",
       "\n",
       "    .dataframe tbody tr th {\n",
       "        vertical-align: top;\n",
       "    }\n",
       "</style>\n",
       "<table border=\"1\" class=\"dataframe\">\n",
       "  <thead>\n",
       "    <tr style=\"text-align: right;\">\n",
       "      <th></th>\n",
       "      <th>id</th>\n",
       "      <th>age</th>\n",
       "      <th>sex</th>\n",
       "      <th>acupuncturist</th>\n",
       "      <th>group</th>\n",
       "      <th>migraine</th>\n",
       "      <th>chronicity</th>\n",
       "      <th>delta5</th>\n",
       "      <th>globaldelta</th>\n",
       "      <th>f1</th>\n",
       "      <th>f5</th>\n",
       "      <th>pf1</th>\n",
       "      <th>pf5</th>\n",
       "      <th>ef1</th>\n",
       "      <th>ef5</th>\n",
       "      <th>changeinpainmeds</th>\n",
       "      <th>totaldos</th>\n",
       "    </tr>\n",
       "  </thead>\n",
       "  <tbody>\n",
       "    <tr>\n",
       "      <th>0</th>\n",
       "      <td>100</td>\n",
       "      <td>47</td>\n",
       "      <td>1</td>\n",
       "      <td>12</td>\n",
       "      <td>1</td>\n",
       "      <td>1</td>\n",
       "      <td>35</td>\n",
       "      <td>NaN</td>\n",
       "      <td>NaN</td>\n",
       "      <td>8.0</td>\n",
       "      <td>0.00</td>\n",
       "      <td>100.0</td>\n",
       "      <td>NaN</td>\n",
       "      <td>80.0</td>\n",
       "      <td>NaN</td>\n",
       "      <td>NaN</td>\n",
       "      <td>NaN</td>\n",
       "    </tr>\n",
       "    <tr>\n",
       "      <th>1</th>\n",
       "      <td>101</td>\n",
       "      <td>52</td>\n",
       "      <td>1</td>\n",
       "      <td>12</td>\n",
       "      <td>0</td>\n",
       "      <td>1</td>\n",
       "      <td>8</td>\n",
       "      <td>NaN</td>\n",
       "      <td>NaN</td>\n",
       "      <td>4.0</td>\n",
       "      <td>0.00</td>\n",
       "      <td>25.0</td>\n",
       "      <td>NaN</td>\n",
       "      <td>35.0</td>\n",
       "      <td>NaN</td>\n",
       "      <td>NaN</td>\n",
       "      <td>6.0</td>\n",
       "    </tr>\n",
       "    <tr>\n",
       "      <th>2</th>\n",
       "      <td>104</td>\n",
       "      <td>32</td>\n",
       "      <td>1</td>\n",
       "      <td>12</td>\n",
       "      <td>0</td>\n",
       "      <td>1</td>\n",
       "      <td>14</td>\n",
       "      <td>0.666667</td>\n",
       "      <td>NaN</td>\n",
       "      <td>12.0</td>\n",
       "      <td>13.33</td>\n",
       "      <td>95.0</td>\n",
       "      <td>100.0</td>\n",
       "      <td>60.0</td>\n",
       "      <td>65.0</td>\n",
       "      <td>21.0</td>\n",
       "      <td>3.0</td>\n",
       "    </tr>\n",
       "    <tr>\n",
       "      <th>3</th>\n",
       "      <td>105</td>\n",
       "      <td>53</td>\n",
       "      <td>1</td>\n",
       "      <td>9</td>\n",
       "      <td>0</td>\n",
       "      <td>1</td>\n",
       "      <td>10</td>\n",
       "      <td>NaN</td>\n",
       "      <td>NaN</td>\n",
       "      <td>21.0</td>\n",
       "      <td>0.00</td>\n",
       "      <td>85.0</td>\n",
       "      <td>NaN</td>\n",
       "      <td>55.0</td>\n",
       "      <td>NaN</td>\n",
       "      <td>NaN</td>\n",
       "      <td>NaN</td>\n",
       "    </tr>\n",
       "    <tr>\n",
       "      <th>4</th>\n",
       "      <td>108</td>\n",
       "      <td>56</td>\n",
       "      <td>1</td>\n",
       "      <td>9</td>\n",
       "      <td>0</td>\n",
       "      <td>1</td>\n",
       "      <td>40</td>\n",
       "      <td>-6.749999</td>\n",
       "      <td>NaN</td>\n",
       "      <td>14.0</td>\n",
       "      <td>15.00</td>\n",
       "      <td>70.0</td>\n",
       "      <td>55.0</td>\n",
       "      <td>20.0</td>\n",
       "      <td>15.0</td>\n",
       "      <td>5.0</td>\n",
       "      <td>23.0</td>\n",
       "    </tr>\n",
       "  </tbody>\n",
       "</table>\n",
       "</div>"
      ],
      "text/plain": [
       "    id  age  sex  acupuncturist  group  migraine  chronicity    delta5  \\\n",
       "0  100   47    1             12      1         1          35       NaN   \n",
       "1  101   52    1             12      0         1           8       NaN   \n",
       "2  104   32    1             12      0         1          14  0.666667   \n",
       "3  105   53    1              9      0         1          10       NaN   \n",
       "4  108   56    1              9      0         1          40 -6.749999   \n",
       "\n",
       "   globaldelta    f1     f5    pf1    pf5   ef1   ef5  changeinpainmeds  \\\n",
       "0          NaN   8.0   0.00  100.0    NaN  80.0   NaN               NaN   \n",
       "1          NaN   4.0   0.00   25.0    NaN  35.0   NaN               NaN   \n",
       "2          NaN  12.0  13.33   95.0  100.0  60.0  65.0              21.0   \n",
       "3          NaN  21.0   0.00   85.0    NaN  55.0   NaN               NaN   \n",
       "4          NaN  14.0  15.00   70.0   55.0  20.0  15.0               5.0   \n",
       "\n",
       "   totaldos  \n",
       "0       NaN  \n",
       "1       6.0  \n",
       "2       3.0  \n",
       "3       NaN  \n",
       "4      23.0  "
      ]
     },
     "execution_count": 75,
     "metadata": {},
     "output_type": "execute_result"
    }
   ],
   "source": [
    "# Inspect the Dataset\n",
    "df.head()"
   ]
  },
  {
   "cell_type": "code",
   "execution_count": 40,
   "metadata": {},
   "outputs": [],
   "source": [
    "# Separate observations into the treatment and control class\n",
    "\n",
    "treatment = df.loc[((df['group']==1) & (df['delta5'].isnull()==False)),'delta5']\n",
    "control =  df.loc[((df['group']==0) & (df['delta5'].isnull()==False)),'delta5']"
   ]
  },
  {
   "cell_type": "code",
   "execution_count": 112,
   "metadata": {},
   "outputs": [],
   "source": [
    "# change = df.loc[df['delta5'].isnull()==False,'delta5']"
   ]
  },
  {
   "cell_type": "markdown",
   "metadata": {},
   "source": [
    "## Visualizing the Distributions of the change in headache scores"
   ]
  },
  {
   "cell_type": "code",
   "execution_count": 126,
   "metadata": {},
   "outputs": [
    {
     "data": {
      "image/png": "[encoded data removed]",
      "text/plain": [
       "<matplotlib.figure.Figure at 0x1539769af98>"
      ]
     },
     "metadata": {},
     "output_type": "display_data"
    }
   ],
   "source": [
    "# Draw Graphic Visualizaing the differences in the mean between those in the acupuncture group and the no acupuncture group\n",
    "plt.style.use('fivethirtyeight')\n",
    "plt.figure(figsize=(9,9))\n",
    "plt.title('Change in Self Reported Headache Scores by Treatment Group',fontdict={'fontweight':'bold'})\n",
    "plt.hist(treatment, bins=25, alpha=0.5, label='Acupuncture')\n",
    "plt.hist(control, bins=25, alpha=0.5, label='No Treatment')\n",
    "plt.axvline(treatment.mean(), color='k',linestyle='dashed',linewidth=1)\n",
    "plt.axvline(control.mean(), color='k',linestyle=':',linewidth=1)\n",
    "min_ylim, max_ylim = plt.ylim()\n",
    "plt.text(control.mean()-36, max_ylim*.9,f'No Treatment Mean: {round(control.mean(),2)}')\n",
    "plt.text(treatment.mean()+4, max_ylim*.95,f'Acupuncture Group Mean: {round(treatment.mean(),2)}')\n",
    "plt.xlabel('Change in Self reported Headache Discomfort',{'fontsize':'large'})\n",
    "plt.ylabel('Study Participants',{'fontsize':'large'})\n",
    "plt.legend(loc='lower right')\n",
    "plt.show()"
   ]
  },
  {
   "cell_type": "code",
   "execution_count": 51,
   "metadata": {
    "scrolled": true
   },
   "outputs": [
    {
     "name": "stdout",
     "output_type": "stream",
     "text": [
      "The mean improvement for those who received an acupucnture treatment was 8.33 points\n"
     ]
    }
   ],
   "source": [
    "print(f'The mean improvement for those who received an acupucnture treatment was {round(treatment.mean(),2)} points.')"
   ]
  },
  {
   "cell_type": "code",
   "execution_count": 52,
   "metadata": {},
   "outputs": [
    {
     "name": "stdout",
     "output_type": "stream",
     "text": [
      "The mean improvement for those who received an acupucnture treatment was 4.37 points.\n"
     ]
    }
   ],
   "source": [
    "print(f'The mean improvement for those who received an acupucnture treatment was {round(control.mean(),2)} points.')"
   ]
  },
  {
   "cell_type": "markdown",
   "metadata": {},
   "source": [
    "### Because we have a continious, normal distribution we want to use the Fischer's T Test to compare the acupuncture vs. non-acupuncture groups"
   ]
  },
  {
   "cell_type": "code",
   "execution_count": 111,
   "metadata": {
    "scrolled": true
   },
   "outputs": [
    {
     "data": {
      "text/plain": [
       "Ttest_indResult(statistic=2.9320200339064502, pvalue=0.0036277299974949336)"
      ]
     },
     "execution_count": 111,
     "metadata": {},
     "output_type": "execute_result"
    }
   ],
   "source": [
    "stats.ttest_ind(treatment,control)"
   ]
  },
  {
   "cell_type": "markdown",
   "metadata": {},
   "source": [
    "### With a p-value of .003, we can reject the null hypotheses and state that there is a statistically significant difference in the reported headache relief between the acupuncture and control groups."
   ]
  },
  {
   "cell_type": "code",
   "execution_count": null,
   "metadata": {
    "collapsed": true
   },
   "outputs": [],
   "source": []
  },
  {
   "cell_type": "code",
   "execution_count": null,
   "metadata": {
    "collapsed": true
   },
   "outputs": [],
   "source": []
  },
  {
   "cell_type": "markdown",
   "metadata": {},
   "source": [
    "# Hypothesis Test 2 : Testing the difference in the number of sick days taken by participants in the accupuncture treatment group, and those in the control group"
   ]
  },
  {
   "cell_type": "markdown",
   "metadata": {},
   "source": [
    "## Inspect variable for nulls and split into treatment and control groups"
   ]
  },
  {
   "cell_type": "code",
   "execution_count": null,
   "metadata": {
    "collapsed": true
   },
   "outputs": [],
   "source": []
  },
  {
   "cell_type": "code",
   "execution_count": 136,
   "metadata": {
    "scrolled": true
   },
   "outputs": [
    {
     "data": {
      "text/html": [
       "<div>\n",
       "<style>\n",
       "    .dataframe thead tr:only-child th {\n",
       "        text-align: right;\n",
       "    }\n",
       "\n",
       "    .dataframe thead th {\n",
       "        text-align: left;\n",
       "    }\n",
       "\n",
       "    .dataframe tbody tr th {\n",
       "        vertical-align: top;\n",
       "    }\n",
       "</style>\n",
       "<table border=\"1\" class=\"dataframe\">\n",
       "  <thead>\n",
       "    <tr style=\"text-align: right;\">\n",
       "      <th></th>\n",
       "      <th>id</th>\n",
       "      <th>age</th>\n",
       "      <th>sex</th>\n",
       "      <th>acupuncturist</th>\n",
       "      <th>group</th>\n",
       "      <th>migraine</th>\n",
       "      <th>chronicity</th>\n",
       "      <th>delta5</th>\n",
       "      <th>globaldelta</th>\n",
       "      <th>f1</th>\n",
       "      <th>f5</th>\n",
       "      <th>pf1</th>\n",
       "      <th>pf5</th>\n",
       "      <th>ef1</th>\n",
       "      <th>ef5</th>\n",
       "      <th>changeinpainmeds</th>\n",
       "      <th>totaldos</th>\n",
       "    </tr>\n",
       "  </thead>\n",
       "  <tbody>\n",
       "    <tr>\n",
       "      <th>0</th>\n",
       "      <td>100</td>\n",
       "      <td>47</td>\n",
       "      <td>1</td>\n",
       "      <td>12</td>\n",
       "      <td>1</td>\n",
       "      <td>1</td>\n",
       "      <td>35</td>\n",
       "      <td>NaN</td>\n",
       "      <td>NaN</td>\n",
       "      <td>8.0</td>\n",
       "      <td>0.00</td>\n",
       "      <td>100.0</td>\n",
       "      <td>NaN</td>\n",
       "      <td>80.0</td>\n",
       "      <td>NaN</td>\n",
       "      <td>NaN</td>\n",
       "      <td>NaN</td>\n",
       "    </tr>\n",
       "    <tr>\n",
       "      <th>1</th>\n",
       "      <td>101</td>\n",
       "      <td>52</td>\n",
       "      <td>1</td>\n",
       "      <td>12</td>\n",
       "      <td>0</td>\n",
       "      <td>1</td>\n",
       "      <td>8</td>\n",
       "      <td>NaN</td>\n",
       "      <td>NaN</td>\n",
       "      <td>4.0</td>\n",
       "      <td>0.00</td>\n",
       "      <td>25.0</td>\n",
       "      <td>NaN</td>\n",
       "      <td>35.0</td>\n",
       "      <td>NaN</td>\n",
       "      <td>NaN</td>\n",
       "      <td>6.0</td>\n",
       "    </tr>\n",
       "    <tr>\n",
       "      <th>2</th>\n",
       "      <td>104</td>\n",
       "      <td>32</td>\n",
       "      <td>1</td>\n",
       "      <td>12</td>\n",
       "      <td>0</td>\n",
       "      <td>1</td>\n",
       "      <td>14</td>\n",
       "      <td>0.666667</td>\n",
       "      <td>NaN</td>\n",
       "      <td>12.0</td>\n",
       "      <td>13.33</td>\n",
       "      <td>95.0</td>\n",
       "      <td>100.0</td>\n",
       "      <td>60.0</td>\n",
       "      <td>65.0</td>\n",
       "      <td>21.0</td>\n",
       "      <td>3.0</td>\n",
       "    </tr>\n",
       "    <tr>\n",
       "      <th>3</th>\n",
       "      <td>105</td>\n",
       "      <td>53</td>\n",
       "      <td>1</td>\n",
       "      <td>9</td>\n",
       "      <td>0</td>\n",
       "      <td>1</td>\n",
       "      <td>10</td>\n",
       "      <td>NaN</td>\n",
       "      <td>NaN</td>\n",
       "      <td>21.0</td>\n",
       "      <td>0.00</td>\n",
       "      <td>85.0</td>\n",
       "      <td>NaN</td>\n",
       "      <td>55.0</td>\n",
       "      <td>NaN</td>\n",
       "      <td>NaN</td>\n",
       "      <td>NaN</td>\n",
       "    </tr>\n",
       "    <tr>\n",
       "      <th>4</th>\n",
       "      <td>108</td>\n",
       "      <td>56</td>\n",
       "      <td>1</td>\n",
       "      <td>9</td>\n",
       "      <td>0</td>\n",
       "      <td>1</td>\n",
       "      <td>40</td>\n",
       "      <td>-6.749999</td>\n",
       "      <td>NaN</td>\n",
       "      <td>14.0</td>\n",
       "      <td>15.00</td>\n",
       "      <td>70.0</td>\n",
       "      <td>55.0</td>\n",
       "      <td>20.0</td>\n",
       "      <td>15.0</td>\n",
       "      <td>5.0</td>\n",
       "      <td>23.0</td>\n",
       "    </tr>\n",
       "  </tbody>\n",
       "</table>\n",
       "</div>"
      ],
      "text/plain": [
       "    id  age  sex  acupuncturist  group  migraine  chronicity    delta5  \\\n",
       "0  100   47    1             12      1         1          35       NaN   \n",
       "1  101   52    1             12      0         1           8       NaN   \n",
       "2  104   32    1             12      0         1          14  0.666667   \n",
       "3  105   53    1              9      0         1          10       NaN   \n",
       "4  108   56    1              9      0         1          40 -6.749999   \n",
       "\n",
       "   globaldelta    f1     f5    pf1    pf5   ef1   ef5  changeinpainmeds  \\\n",
       "0          NaN   8.0   0.00  100.0    NaN  80.0   NaN               NaN   \n",
       "1          NaN   4.0   0.00   25.0    NaN  35.0   NaN               NaN   \n",
       "2          NaN  12.0  13.33   95.0  100.0  60.0  65.0              21.0   \n",
       "3          NaN  21.0   0.00   85.0    NaN  55.0   NaN               NaN   \n",
       "4          NaN  14.0  15.00   70.0   55.0  20.0  15.0               5.0   \n",
       "\n",
       "   totaldos  \n",
       "0       NaN  \n",
       "1       6.0  \n",
       "2       3.0  \n",
       "3       NaN  \n",
       "4      23.0  "
      ]
     },
     "execution_count": 136,
     "metadata": {},
     "output_type": "execute_result"
    }
   ],
   "source": [
    "# Inspect the Dataset\n",
    "df.head()"
   ]
  },
  {
   "cell_type": "code",
   "execution_count": 139,
   "metadata": {
    "collapsed": true
   },
   "outputs": [],
   "source": [
    "# Separate observations into the treatment and control class\n",
    "\n",
    "treatment = df.loc[((df['group']==1) & (df['totaldos'].isnull()==False)),'totaldos']\n",
    "control =  df.loc[((df['group']==0) & (df['totaldos'].isnull()==False)),'totaldos']"
   ]
  },
  {
   "cell_type": "code",
   "execution_count": null,
   "metadata": {
    "collapsed": true
   },
   "outputs": [],
   "source": []
  },
  {
   "cell_type": "code",
   "execution_count": null,
   "metadata": {
    "collapsed": true
   },
   "outputs": [],
   "source": []
  },
  {
   "cell_type": "markdown",
   "metadata": {},
   "source": [
    "## Check distribution of continous variable to determine which test to use"
   ]
  },
  {
   "cell_type": "code",
   "execution_count": 122,
   "metadata": {},
   "outputs": [],
   "source": [
    "sickdays = df.loc[df['totaldos'].isnull()==False,'totaldos']"
   ]
  },
  {
   "cell_type": "code",
   "execution_count": 135,
   "metadata": {},
   "outputs": [
    {
     "data": {
      "image/png": "[encoded data removed]",
      "text/plain": [
       "<matplotlib.figure.Figure at 0x153981fc518>"
      ]
     },
     "metadata": {},
     "output_type": "display_data"
    }
   ],
   "source": [
    "plt.figure(figsize=(9,9))\n",
    "plt.title('Non-Normal Distribution of The Number of Sick Days')\n",
    "plt.ylabel('Study Participants')\n",
    "plt.xlabel('Number of Sick Days Taken')\n",
    "plt.style.use('fivethirtyeight')\n",
    "plt.hist(sickdays,bins=20,alpha=.5)\n",
    "plt.show()"
   ]
  },
  {
   "cell_type": "markdown",
   "metadata": {},
   "source": [
    "Non-normal distribution indicates we should use the Mann Whitney U Test for nonparametric comparison testing"
   ]
  },
  {
   "cell_type": "code",
   "execution_count": null,
   "metadata": {
    "collapsed": true
   },
   "outputs": [],
   "source": []
  },
  {
   "cell_type": "markdown",
   "metadata": {},
   "source": [
    "## Compare Distributions and Means of Study Groups"
   ]
  },
  {
   "cell_type": "code",
   "execution_count": 141,
   "metadata": {},
   "outputs": [
    {
     "data": {
      "image/png": "[encoded data removed]",
      "text/plain": [
       "<matplotlib.figure.Figure at 0x15397c6a710>"
      ]
     },
     "metadata": {},
     "output_type": "display_data"
    }
   ],
   "source": [
    "# Draw Graphic Visualizaing the differences in the mean between those in the acupuncture group and the no acupuncture group\n",
    "plt.style.use('fivethirtyeight')\n",
    "plt.figure(figsize=(9,9))\n",
    "plt.title('Number of Annual Sick Days by Treatment Group',fontdict={'fontweight':'bold'})\n",
    "plt.hist(treatment, bins=25, alpha=0.5, label='Acupuncture')\n",
    "plt.hist(control, bins=25, alpha=0.5, label='No Treatment')\n",
    "plt.axvline(treatment.mean(), color='k',linestyle='dashed',linewidth=1)\n",
    "plt.axvline(control.mean(), color='k',linestyle=':',linewidth=1)\n",
    "min_ylim, max_ylim = plt.ylim()\n",
    "plt.text(control.mean()+4, max_ylim*.9,f'No Treatment Mean: {round(control.mean(),2)}')\n",
    "plt.text(treatment.mean()+4, max_ylim*.95,f'Acupuncture Group Mean: {round(treatment.mean(),2)}')\n",
    "plt.xlabel('Number of Sick Days Taken',{'fontsize':'large'})\n",
    "plt.ylabel('Study Participants',{'fontsize':'large'})\n",
    "plt.legend(loc='lower right')\n",
    "plt.show()"
   ]
  },
  {
   "cell_type": "code",
   "execution_count": null,
   "metadata": {
    "collapsed": true
   },
   "outputs": [],
   "source": []
  },
  {
   "cell_type": "markdown",
   "metadata": {},
   "source": [
    "### Because we have a continious, right-skewed distribution we want to use the Mann Whitney U Test to compare the acupuncture vs. non-acupuncture groups"
   ]
  },
  {
   "cell_type": "code",
   "execution_count": 142,
   "metadata": {
    "scrolled": true
   },
   "outputs": [
    {
     "data": {
      "text/plain": [
       "MannwhitneyuResult(statistic=12325.0, pvalue=0.045016962322660489)"
      ]
     },
     "execution_count": 142,
     "metadata": {},
     "output_type": "execute_result"
    }
   ],
   "source": [
    "stats.mannwhitneyu(treatment,control)"
   ]
  },
  {
   "cell_type": "markdown",
   "metadata": {},
   "source": [
    "### At the 95% confidence interval we can reject the null hypotheses and state that there is a significant difference between the accupuncture  and control populations that is not due to chance. "
   ]
  }
 ],
 "metadata": {
  "kernelspec": {
   "display_name": "Python 3",
   "language": "python",
   "name": "python3"
  },
  "language_info": {
   "codemirror_mode": {
    "name": "ipython",
    "version": 3
   },
   "file_extension": ".py",
   "mimetype": "text/x-python",
   "name": "python",
   "nbconvert_exporter": "python",
   "pygments_lexer": "ipython3",
   "version": "3.6.3"
  }
 },
 "nbformat": 4,
 "nbformat_minor": 2
}
