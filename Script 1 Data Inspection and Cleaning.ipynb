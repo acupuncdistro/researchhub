{
 "cells": [
  {
   "cell_type": "markdown",
   "metadata": {},
   "source": [
    "# Acupuncture for chronic headache in primary care: large, pragmatic, randomised trial"
   ]
  },
  {
   "cell_type": "markdown",
   "metadata": {},
   "source": [
    "## Andrew J Vickers, Rebecca W Rees, Catherine E Zollman, Rob McCarney, Claire Smith, Nadia Ellis, Peter Fisher, Robbert Van Haselen"
   ]
  },
  {
   "cell_type": "markdown",
   "metadata": {},
   "source": [
    "<img src=\"Acupuncture.jpg\" width = \"300\" height = \"300\"> <img src = \"NHS.jpeg\" width=\"300\" height=\"200\">"
   ]
  },
  {
   "cell_type": "markdown",
   "metadata": {},
   "source": [
    "# Abstract:\n",
    "\n",
    "### Objective: \n",
    "To determine the effects of a policy of “useacupuncture” on headache, health status, days off sick, and useof resources in patients with chronic headache compared with apolicy of “avoid acupuncture.”\n",
    "\n",
    "### Design: \n",
    "Randomised, controlled trial.\n",
    "\n",
    "### Setting:\n",
    "General practices in England and Wales.\n",
    "\n",
    "### Participants: \n",
    "401 patients with chronic headache, predominantly migraine.\n",
    "\n",
    "### Interventions: \n",
    "Patients were randomly allocated to receive up to 12 acupuncture treatments over three months or to a control intervention offering usual care.\n",
    "\n",
    "### Main outcome measures:\n",
    "Headache score, SF-36 health status, and use of medication were assessed at baseline, three, and 12 months. Use of resources was assessed every three months.\n",
    "\n",
    "### Results:\n",
    "Headache score at 12 months, the primary end point,was lower in the acupuncture group (16.2, SD 13.7, n = 161,34% reduction from baseline) than in controls (22.3, SD 17.0,n = 140, 16% reduction from baseline). The adjusted difference between means is 4.6 (95% confidence interval 2.2 to 7.0;P = 0.0002). This result is robust to sensitivity analysis incorporating imputation for missing data. Patients in the acupuncture group experienced the equivalent of 22 fewer days of headache per year (8 to 38). SF-36 data favoured acupuncture, although differences reached significance only forphysical role functioning, energy, and change in health. Compared with controls, patients randomised to acupuncture used 15% less medication (P = 0.02), made 25% fewer visits togeneral practitioners (P = 0.10), and took 15% fewer days offsick (P = 0.2).\n",
    "\n",
    "### Conclusions:\n",
    "Acupuncture leads to persisting, clinically relevantbenefits for primary care patients with chronic headache, particularly migraine. Expansion of NHS acupuncture servicesshould be considered.\n",
    "\n",
    "### Contributors: \n",
    "AJV conceived, designed and analysed the study and is itsguarantor; RWR, CEZ, CMS, and NE contributed to the original design with particular contributions to outcome assessment (RWR, CMS); patients andtreatment (CEZ); acupuncture treatment (NE). RM contributed to design of resource outcome assessment; RM, RvH and PF contributed to development of data collection methods for sensitivity analysis.\n",
    "\n",
    "### Funding: \n",
    "The trial (ISRCTN96537534) was funded by NHS R&D National Coordinating Centre for Health Technology Assessment (NCCHTA) grant: 96/40/15.\n",
    "\n",
    "### Competing interests: \n",
    "NE provides acupuncture as part of her private physiotherapy practice."
   ]
  },
  {
   "cell_type": "markdown",
   "metadata": {},
   "source": [
    "# SF-36 Questionnaire mailed to participants"
   ]
  },
  {
   "cell_type": "markdown",
   "metadata": {},
   "source": [
    "## Background on the Study design\n",
    "\n",
    "The variables are coded 1-5. \"Depends on the pack from which the data were derived\n",
    "\n",
    "Ex. \"gen 1\" is the general health on SF36 for pack 1 (Baseline score)\n",
    "    \"gen 5\" 1 year SF 36 score for general health\n",
    "    \n",
    "\n",
    "- Pack 1: Baseline: headache and medication diary; SF36\n",
    "- Pack 2: Three months Headache and Medication Diary, SF36 and resource use\n",
    "- Pack 3: Six Months: Resource Use\n",
    "- Pack 4: Nine months: Resource Use\n",
    "- Pack 5: One year headache and medication diary, SF 36 and resouce use. \n"
   ]
  },
  {
   "cell_type": "code",
   "execution_count": 1,
   "metadata": {
    "collapsed": true
   },
   "outputs": [],
   "source": [
    "from IPython.display import IFrame"
   ]
  },
  {
   "cell_type": "code",
   "execution_count": 2,
   "metadata": {},
   "outputs": [
    {
     "data": {
      "text/html": [
       "\n",
       "        <iframe\n",
       "            width=\"900\"\n",
       "            height=\"400\"\n",
       "            src=\"./SF-36 Questionnaire.pdf\"\n",
       "            frameborder=\"0\"\n",
       "            allowfullscreen\n",
       "        ></iframe>\n",
       "        "
      ],
      "text/plain": [
       "<IPython.lib.display.IFrame at 0x2a4182b1400>"
      ]
     },
     "execution_count": 2,
     "metadata": {},
     "output_type": "execute_result"
    }
   ],
   "source": [
    "# What did the \n",
    "IFrame(\"./SF-36 Questionnaire.pdf\", width=900, height=400)"
   ]
  },
  {
   "cell_type": "markdown",
   "metadata": {},
   "source": [
    "# Hypotheses and Outcomes of Interest\n",
    "\n",
    "Ha: Headache scores for the actupuncture group are significantly less than that of the control group\n",
    "\n",
    "H0: Headache scores for the actupuncture group are not significantly less than that of the control group\n",
    "\n",
    "variable = delta5 and global delta\n",
    "\n",
    "\n",
    "H0: The number of headaches for the acupuncture group are significantly less than that of the control group\n",
    "\n",
    "Ha: The number of headaches for the acupuncture group are not significantly less than that of the control group\n",
    "\n",
    "variable = f5 - f1 (new variable)\n",
    "\n",
    "\n",
    "Ha: Self reported scores for physical role functioning in the actupuncture group are significantly less than that of the control group\n",
    "\n",
    "H0: Self reported scores for physical role functioning in the actupuncture group are not significantly less than that of the control group\n",
    "\n",
    "variable = pf5 - pf1 (new variable)\n",
    "\n",
    "\n",
    "Ha:Self reported scores for energy functioning in the actupuncture group are significantly less than that of the control group\n",
    "\n",
    "H0: Self reported scores for energy functioning in the actupuncture group are not significantly less than that of the control group\n",
    "\n",
    "variable = ef5 - ef1 (new variable)\n",
    "\n",
    "\n",
    "Ha: Self reported amount of medication used in the actupuncture group are significantly less than that of the control group\n",
    "\n",
    "H0: Self reported amount of medication used in the actupuncture group are not significantly less than that of the control group\n",
    "\n",
    "variable = changeinpainmeds\n",
    "\n",
    "\n",
    "Ha: Self reported number of sick days in the actupuncture group are significantly less than that of the control group\n",
    "\n",
    "H0: Self reported number of sick days in the actupuncture group are not significantly less than that of the control group\n",
    "\n",
    "variable = totaldos\n",
    "\n"
   ]
  },
  {
   "cell_type": "markdown",
   "metadata": {},
   "source": [
    "# Import Libraries "
   ]
  },
  {
   "cell_type": "code",
   "execution_count": 3,
   "metadata": {
    "collapsed": true
   },
   "outputs": [],
   "source": [
    "# Pandas is a python library that allows you to work with data in a spreadsheet-like format called \"Dataframes\"\n",
    "import pandas as pd"
   ]
  },
  {
   "cell_type": "markdown",
   "metadata": {},
   "source": [
    "# Data Dictionary"
   ]
  },
  {
   "cell_type": "code",
   "execution_count": 4,
   "metadata": {
    "collapsed": true
   },
   "outputs": [],
   "source": [
    "# read in the data dictionary from the excel sheet\n",
    "data_dictionary = pd.read_excel('./13063_2006_152_MOESM1_ESM.xls',sheetname='Description of variables',parse_cols=\"A,B\")"
   ]
  },
  {
   "cell_type": "code",
   "execution_count": 5,
   "metadata": {},
   "outputs": [
    {
     "name": "stdout",
     "output_type": "stream",
     "text": [
      "      Variable name                              Variable description\n",
      "0                id                                   Patient ID code\n",
      "1               age                                               Age\n",
      "2               sex                                               Sex\n",
      "3          migraine                                          Migraine\n",
      "4        chronicity                                        Chronicity\n",
      "5     acupuncturist                             acupuncturist id code\n",
      "6   date_randomized                                                  \n",
      "7       practice_id                                    GP practice id\n",
      "8             group                    0 is control, 1 is acupuncture\n",
      "9               pk1                   severity score pack1 (baseline)\n",
      "10              pk2              severity score pack2 (posttreatment)\n",
      "11              pk5          severity score pack5 (one year followup)\n",
      "12               f1               headache frequency pack1 (baseline)\n",
      "13               f2                         headache frequency pack 2\n",
      "14               f5                          headache frequency pack5\n",
      "15              pf1       Pack 1 (baseline) SF36 physical functioning\n",
      "16             rlp1   Pack 1 (baseline) SF36 role limitation physical\n",
      "17             rle1  Pack 1 (baseline) SF36 role limitation emotional\n",
      "18              ef1             Pack 1 (baseline) SF36 energy fatigue\n",
      "19             ewb1       Pack 1 (baseline) SF36 emotional well being\n",
      "20              sf1         Pack 1 (baseline) SF36 social functioning\n",
      "21               p1                       Pack 1 (baseline) SF36 pain\n",
      "22             gen1             Pack 1 (baseline) SF36 general health\n",
      "23              hc1              Pack 1 (baseline) SF36 health change\n",
      "24              pf2                  Pack 2 SF36 physical functioning\n",
      "25             rlp2              Pack 2 SF36 role limitation physical\n",
      "26             rle2             Pack 2 SF36 role limitation emotional\n",
      "27              ef2                        Pack 2 SF36 energy fatigue\n",
      "28             ewb2                  Pack 2 SF36 emotional well being\n",
      "29              sf2                    Pack 2 SF36 social functioning\n",
      "..              ...                                               ...\n",
      "64          global1        gloabl severity at baseline on remembering\n",
      "65          global5               global headache rating at trial end\n",
      "66      globaldelta                           Change in global score \n",
      "67            p2cgp                               number of GP visits\n",
      "68          p2cspec                  number of  visits to specialists\n",
      "69           p2cacu                number of visits to acupuncturists\n",
      "70            p2all   number of visits to all other CAM practitioners\n",
      "71            p2dos                           number of days off sick\n",
      "72            p3cgp                               number of GP visits\n",
      "73          p3cspec                  number of  visits to specialists\n",
      "74           p3cacu                number of visits to acupuncturists\n",
      "75            p3all   number of visits to all other CAM practitioners\n",
      "76            p3dos                           number of days off sick\n",
      "77            p4cgp                               number of GP visits\n",
      "78          p4cspec                  number of  visits to specialists\n",
      "79           p4cacu                number of visits to acupuncturists\n",
      "80            p4all   number of visits to all other CAM practitioners\n",
      "81            p4dos                           number of days off sick\n",
      "82            p5cgp                               number of GP visits\n",
      "83          p5cspec                  number of  visits to specialists\n",
      "84           p5cacu                number of visits to acupuncturists\n",
      "85            p5all   number of visits to all other CAM practitioners\n",
      "86            p5dos                           number of days off sick\n",
      "87         totalacu                    total visits to acupuncturists\n",
      "88       totalother           total visits to other CAM practitioners\n",
      "89          totalgp                         total number of gp visits\n",
      "90        totalspec                 total number of specialist visits\n",
      "91         totaldos                     total number of days off sick\n",
      "92         exposure        number of months of resource use recording\n",
      "93      exposuredos       number of months of days off sick recording\n",
      "\n",
      "[94 rows x 2 columns]\n"
     ]
    }
   ],
   "source": [
    "# display the contents of the data dictionary\n",
    "print(data_dictionary)"
   ]
  },
  {
   "cell_type": "markdown",
   "metadata": {},
   "source": [
    "# Load in data, inspect the data"
   ]
  },
  {
   "cell_type": "markdown",
   "metadata": {},
   "source": [
    "### Initial Review"
   ]
  },
  {
   "cell_type": "code",
   "execution_count": 6,
   "metadata": {
    "collapsed": true
   },
   "outputs": [],
   "source": [
    "# Load in data from source excel sheet\n",
    "df = pd.read_excel('./13063_2006_152_MOESM1_ESM.xls',sheetname='Data')"
   ]
  },
  {
   "cell_type": "code",
   "execution_count": 7,
   "metadata": {},
   "outputs": [
    {
     "data": {
      "text/plain": [
       "(401, 94)"
      ]
     },
     "execution_count": 7,
     "metadata": {},
     "output_type": "execute_result"
    }
   ],
   "source": [
    "# Inspect the number of rows and columns\n",
    "df.shape"
   ]
  },
  {
   "cell_type": "code",
   "execution_count": 8,
   "metadata": {},
   "outputs": [
    {
     "data": {
      "text/plain": [
       "withdrew consent         58\n",
       "intercurrent illness     16\n",
       "lost to follow-up        15\n",
       "treatment hassle          5\n",
       "treatment ineffective     4\n",
       "died                      1\n",
       "adverse effects           1\n",
       "Name: withdrawal_reason, dtype: int64"
      ]
     },
     "execution_count": 8,
     "metadata": {},
     "output_type": "execute_result"
    }
   ],
   "source": [
    "# How many study participants withdrew?\n",
    "df['withdrawal_reason'].value_counts()"
   ]
  },
  {
   "cell_type": "code",
   "execution_count": 9,
   "metadata": {},
   "outputs": [
    {
     "data": {
      "text/plain": [
       "5    301\n",
       "1     66\n",
       "2     14\n",
       "4     13\n",
       "3      7\n",
       "Name: withdrawalafter, dtype: int64"
      ]
     },
     "execution_count": 9,
     "metadata": {},
     "output_type": "execute_result"
    }
   ],
   "source": [
    "# What stage in the study did they drop out?\n",
    "df['withdrawalafter'].value_counts()"
   ]
  },
  {
   "cell_type": "markdown",
   "metadata": {},
   "source": [
    "### Observations\n",
    "\n",
    "100 folks withdrew from the study .. most from simply withdrawing consent. Treatment ineffective was 1% of study participants. Most of those who withdrew did so after the 1st stage of the study. "
   ]
  },
  {
   "cell_type": "markdown",
   "metadata": {},
   "source": [
    "Patients couldn't have a number of preexisting conditions including pregnancy, malignancy, cluster headache, suspicion that headache disorder had specific aetiology cranial neuraligis and acupuncture treaments in the last 12 months. \n",
    "\n",
    "Specialist sites or general practitioners that offer accupuncture at 17 specific sites called patients about participating in the study. \n",
    "\n",
    "Eligible patietns completed a baseline headache diary for four weeks. Patients who provided written informed consent, had a mean weekly baseline headache score of 8.75 or more and completed at least 75% of the baseline diary were randomised to a policy of ue acupuncture or avoid acupuncture "
   ]
  },
  {
   "cell_type": "code",
   "execution_count": 10,
   "metadata": {},
   "outputs": [
    {
     "data": {
      "text/html": [
       "<div>\n",
       "<style>\n",
       "    .dataframe thead tr:only-child th {\n",
       "        text-align: right;\n",
       "    }\n",
       "\n",
       "    .dataframe thead th {\n",
       "        text-align: left;\n",
       "    }\n",
       "\n",
       "    .dataframe tbody tr th {\n",
       "        vertical-align: top;\n",
       "    }\n",
       "</style>\n",
       "<table border=\"1\" class=\"dataframe\">\n",
       "  <thead>\n",
       "    <tr style=\"text-align: right;\">\n",
       "      <th></th>\n",
       "      <th>id</th>\n",
       "      <th>age</th>\n",
       "      <th>sex</th>\n",
       "      <th>migraine</th>\n",
       "      <th>chronicity</th>\n",
       "      <th>acupuncturist</th>\n",
       "      <th>practice_id</th>\n",
       "      <th>group</th>\n",
       "      <th>pk1</th>\n",
       "      <th>pk2</th>\n",
       "      <th>...</th>\n",
       "      <th>p5cacu</th>\n",
       "      <th>p5all</th>\n",
       "      <th>p5dos</th>\n",
       "      <th>totalacu</th>\n",
       "      <th>totalother</th>\n",
       "      <th>totalgp</th>\n",
       "      <th>totalspec</th>\n",
       "      <th>totaldos</th>\n",
       "      <th>exposure</th>\n",
       "      <th>exposuredos</th>\n",
       "    </tr>\n",
       "  </thead>\n",
       "  <tbody>\n",
       "    <tr>\n",
       "      <th>count</th>\n",
       "      <td>401.000000</td>\n",
       "      <td>401.000000</td>\n",
       "      <td>401.000000</td>\n",
       "      <td>401.000000</td>\n",
       "      <td>401.000000</td>\n",
       "      <td>401.000000</td>\n",
       "      <td>401.000000</td>\n",
       "      <td>401.000000</td>\n",
       "      <td>401.000000</td>\n",
       "      <td>326.000000</td>\n",
       "      <td>...</td>\n",
       "      <td>297.000000</td>\n",
       "      <td>297.000000</td>\n",
       "      <td>279.000000</td>\n",
       "      <td>334.000000</td>\n",
       "      <td>334.000000</td>\n",
       "      <td>334.000000</td>\n",
       "      <td>334.000000</td>\n",
       "      <td>333.000000</td>\n",
       "      <td>334.000000</td>\n",
       "      <td>333.000000</td>\n",
       "    </tr>\n",
       "    <tr>\n",
       "      <th>mean</th>\n",
       "      <td>470.872818</td>\n",
       "      <td>45.538653</td>\n",
       "      <td>0.840399</td>\n",
       "      <td>0.940150</td>\n",
       "      <td>21.458853</td>\n",
       "      <td>5.985037</td>\n",
       "      <td>24.775561</td>\n",
       "      <td>0.511222</td>\n",
       "      <td>26.509975</td>\n",
       "      <td>21.598159</td>\n",
       "      <td>...</td>\n",
       "      <td>0.030303</td>\n",
       "      <td>0.599327</td>\n",
       "      <td>2.835125</td>\n",
       "      <td>1.952096</td>\n",
       "      <td>1.838323</td>\n",
       "      <td>1.682635</td>\n",
       "      <td>0.170659</td>\n",
       "      <td>11.099850</td>\n",
       "      <td>10.670659</td>\n",
       "      <td>10.450450</td>\n",
       "    </tr>\n",
       "    <tr>\n",
       "      <th>std</th>\n",
       "      <td>207.167954</td>\n",
       "      <td>11.050300</td>\n",
       "      <td>0.366693</td>\n",
       "      <td>0.237506</td>\n",
       "      <td>13.766406</td>\n",
       "      <td>2.804421</td>\n",
       "      <td>11.366816</td>\n",
       "      <td>0.500499</td>\n",
       "      <td>16.163224</td>\n",
       "      <td>16.784965</td>\n",
       "      <td>...</td>\n",
       "      <td>0.223057</td>\n",
       "      <td>3.166185</td>\n",
       "      <td>4.342328</td>\n",
       "      <td>4.196822</td>\n",
       "      <td>6.158875</td>\n",
       "      <td>2.426307</td>\n",
       "      <td>0.749920</td>\n",
       "      <td>14.412725</td>\n",
       "      <td>2.591145</td>\n",
       "      <td>2.691146</td>\n",
       "    </tr>\n",
       "    <tr>\n",
       "      <th>min</th>\n",
       "      <td>100.000000</td>\n",
       "      <td>18.000000</td>\n",
       "      <td>0.000000</td>\n",
       "      <td>0.000000</td>\n",
       "      <td>1.000000</td>\n",
       "      <td>1.000000</td>\n",
       "      <td>10.000000</td>\n",
       "      <td>0.000000</td>\n",
       "      <td>6.750000</td>\n",
       "      <td>0.000000</td>\n",
       "      <td>...</td>\n",
       "      <td>0.000000</td>\n",
       "      <td>0.000000</td>\n",
       "      <td>0.000000</td>\n",
       "      <td>0.000000</td>\n",
       "      <td>0.000000</td>\n",
       "      <td>0.000000</td>\n",
       "      <td>0.000000</td>\n",
       "      <td>0.000000</td>\n",
       "      <td>3.000000</td>\n",
       "      <td>3.000000</td>\n",
       "    </tr>\n",
       "    <tr>\n",
       "      <th>25%</th>\n",
       "      <td>292.000000</td>\n",
       "      <td>39.000000</td>\n",
       "      <td>1.000000</td>\n",
       "      <td>1.000000</td>\n",
       "      <td>10.000000</td>\n",
       "      <td>3.000000</td>\n",
       "      <td>16.000000</td>\n",
       "      <td>0.000000</td>\n",
       "      <td>15.000000</td>\n",
       "      <td>10.750000</td>\n",
       "      <td>...</td>\n",
       "      <td>0.000000</td>\n",
       "      <td>0.000000</td>\n",
       "      <td>0.000000</td>\n",
       "      <td>0.000000</td>\n",
       "      <td>0.000000</td>\n",
       "      <td>0.000000</td>\n",
       "      <td>0.000000</td>\n",
       "      <td>2.000000</td>\n",
       "      <td>9.000000</td>\n",
       "      <td>9.000000</td>\n",
       "    </tr>\n",
       "    <tr>\n",
       "      <th>50%</th>\n",
       "      <td>468.000000</td>\n",
       "      <td>48.000000</td>\n",
       "      <td>1.000000</td>\n",
       "      <td>1.000000</td>\n",
       "      <td>20.000000</td>\n",
       "      <td>6.000000</td>\n",
       "      <td>22.000000</td>\n",
       "      <td>1.000000</td>\n",
       "      <td>21.000000</td>\n",
       "      <td>16.875000</td>\n",
       "      <td>...</td>\n",
       "      <td>0.000000</td>\n",
       "      <td>0.000000</td>\n",
       "      <td>2.000000</td>\n",
       "      <td>0.000000</td>\n",
       "      <td>0.000000</td>\n",
       "      <td>1.000000</td>\n",
       "      <td>0.000000</td>\n",
       "      <td>6.000000</td>\n",
       "      <td>12.000000</td>\n",
       "      <td>12.000000</td>\n",
       "    </tr>\n",
       "    <tr>\n",
       "      <th>75%</th>\n",
       "      <td>638.000000</td>\n",
       "      <td>53.000000</td>\n",
       "      <td>1.000000</td>\n",
       "      <td>1.000000</td>\n",
       "      <td>31.000000</td>\n",
       "      <td>8.000000</td>\n",
       "      <td>34.000000</td>\n",
       "      <td>1.000000</td>\n",
       "      <td>34.250000</td>\n",
       "      <td>27.000000</td>\n",
       "      <td>...</td>\n",
       "      <td>0.000000</td>\n",
       "      <td>0.000000</td>\n",
       "      <td>4.000000</td>\n",
       "      <td>0.000000</td>\n",
       "      <td>0.000000</td>\n",
       "      <td>3.000000</td>\n",
       "      <td>0.000000</td>\n",
       "      <td>15.000000</td>\n",
       "      <td>12.000000</td>\n",
       "      <td>12.000000</td>\n",
       "    </tr>\n",
       "    <tr>\n",
       "      <th>max</th>\n",
       "      <td>912.000000</td>\n",
       "      <td>65.000000</td>\n",
       "      <td>1.000000</td>\n",
       "      <td>1.000000</td>\n",
       "      <td>54.000000</td>\n",
       "      <td>12.000000</td>\n",
       "      <td>58.000000</td>\n",
       "      <td>1.000000</td>\n",
       "      <td>94.750000</td>\n",
       "      <td>98.500000</td>\n",
       "      <td>...</td>\n",
       "      <td>2.000000</td>\n",
       "      <td>48.000000</td>\n",
       "      <td>35.000000</td>\n",
       "      <td>24.000000</td>\n",
       "      <td>50.000000</td>\n",
       "      <td>16.000000</td>\n",
       "      <td>6.000000</td>\n",
       "      <td>92.000000</td>\n",
       "      <td>12.000000</td>\n",
       "      <td>12.000000</td>\n",
       "    </tr>\n",
       "  </tbody>\n",
       "</table>\n",
       "<p>8 rows × 92 columns</p>\n",
       "</div>"
      ],
      "text/plain": [
       "               id         age         sex    migraine  chronicity  \\\n",
       "count  401.000000  401.000000  401.000000  401.000000  401.000000   \n",
       "mean   470.872818   45.538653    0.840399    0.940150   21.458853   \n",
       "std    207.167954   11.050300    0.366693    0.237506   13.766406   \n",
       "min    100.000000   18.000000    0.000000    0.000000    1.000000   \n",
       "25%    292.000000   39.000000    1.000000    1.000000   10.000000   \n",
       "50%    468.000000   48.000000    1.000000    1.000000   20.000000   \n",
       "75%    638.000000   53.000000    1.000000    1.000000   31.000000   \n",
       "max    912.000000   65.000000    1.000000    1.000000   54.000000   \n",
       "\n",
       "       acupuncturist  practice_id       group         pk1         pk2  \\\n",
       "count     401.000000   401.000000  401.000000  401.000000  326.000000   \n",
       "mean        5.985037    24.775561    0.511222   26.509975   21.598159   \n",
       "std         2.804421    11.366816    0.500499   16.163224   16.784965   \n",
       "min         1.000000    10.000000    0.000000    6.750000    0.000000   \n",
       "25%         3.000000    16.000000    0.000000   15.000000   10.750000   \n",
       "50%         6.000000    22.000000    1.000000   21.000000   16.875000   \n",
       "75%         8.000000    34.000000    1.000000   34.250000   27.000000   \n",
       "max        12.000000    58.000000    1.000000   94.750000   98.500000   \n",
       "\n",
       "          ...           p5cacu       p5all       p5dos    totalacu  \\\n",
       "count     ...       297.000000  297.000000  279.000000  334.000000   \n",
       "mean      ...         0.030303    0.599327    2.835125    1.952096   \n",
       "std       ...         0.223057    3.166185    4.342328    4.196822   \n",
       "min       ...         0.000000    0.000000    0.000000    0.000000   \n",
       "25%       ...         0.000000    0.000000    0.000000    0.000000   \n",
       "50%       ...         0.000000    0.000000    2.000000    0.000000   \n",
       "75%       ...         0.000000    0.000000    4.000000    0.000000   \n",
       "max       ...         2.000000   48.000000   35.000000   24.000000   \n",
       "\n",
       "       totalother     totalgp   totalspec    totaldos    exposure  exposuredos  \n",
       "count  334.000000  334.000000  334.000000  333.000000  334.000000   333.000000  \n",
       "mean     1.838323    1.682635    0.170659   11.099850   10.670659    10.450450  \n",
       "std      6.158875    2.426307    0.749920   14.412725    2.591145     2.691146  \n",
       "min      0.000000    0.000000    0.000000    0.000000    3.000000     3.000000  \n",
       "25%      0.000000    0.000000    0.000000    2.000000    9.000000     9.000000  \n",
       "50%      0.000000    1.000000    0.000000    6.000000   12.000000    12.000000  \n",
       "75%      0.000000    3.000000    0.000000   15.000000   12.000000    12.000000  \n",
       "max     50.000000   16.000000    6.000000   92.000000   12.000000    12.000000  \n",
       "\n",
       "[8 rows x 92 columns]"
      ]
     },
     "execution_count": 10,
     "metadata": {},
     "output_type": "execute_result"
    }
   ],
   "source": [
    "# Review a summary of statistics for each variable\n",
    "df.describe()"
   ]
  },
  {
   "cell_type": "markdown",
   "metadata": {},
   "source": [
    "# Hypotheses and Outcomes of Interest\n",
    "\n",
    "Ha: Headache scores for the actupuncture group are significantly less than that of the control group\n",
    "\n",
    "H0: Headache scores for the actupuncture group are not significantly less than that of the control group\n",
    "\n",
    "variable = delta5 and global delta\n",
    "\n",
    "\n",
    "H0: The number of headaches for the acupuncture group are significantly less than that of the control group\n",
    "\n",
    "Ha: The number of headaches for the acupuncture group are not significantly less than that of the control group\n",
    "\n",
    "variable = f5 - f1 (new variable)\n",
    "\n",
    "\n",
    "Ha: Self reported scores for physical role functioning in the actupuncture group are significantly less than that of the control group\n",
    "\n",
    "H0: Self reported scores for physical role functioning in the actupuncture group are not significantly less than that of the control group\n",
    "\n",
    "variable = pf5 - pf1 (new variable)\n",
    "\n",
    "\n",
    "Ha:Self reported scores for energy functioning in the actupuncture group are significantly less than that of the control group\n",
    "\n",
    "H0: Self reported scores for energy functioning in the actupuncture group are not significantly less than that of the control group\n",
    "\n",
    "variable = ef5 - ef1 (new variable)\n",
    "\n",
    "\n",
    "Ha: Self reported amount of medication used in the actupuncture group are significantly less than that of the control group\n",
    "\n",
    "H0: Self reported amount of medication used in the actupuncture group are not significantly less than that of the control group\n",
    "\n",
    "variable = changeinpainmeds\n",
    "\n",
    "\n",
    "Ha: Self reported number of sick days in the actupuncture group are significantly less than that of the control group\n",
    "\n",
    "H0: Self reported number of sick days in the actupuncture group are not significantly less than that of the control group\n",
    "\n",
    "variable = totaldos\n",
    "\n"
   ]
  },
  {
   "cell_type": "markdown",
   "metadata": {
    "collapsed": true
   },
   "source": [
    "# What target variables are needed and what variables should we bring for analysis?"
   ]
  },
  {
   "cell_type": "markdown",
   "metadata": {},
   "source": [
    "-id\n",
    "-age\n",
    "-sex\n",
    "-acupuncturist\n",
    "-group\n",
    "-migraine\n",
    "-chronicity\n",
    "-delta5\n",
    "-global delta\n",
    "-f1\n",
    "-f5\n",
    "-pf1\n",
    "-pf5\n",
    "-ef1\n",
    "-ef5\n",
    "-changeinpainmeds\n",
    "-totaldos"
   ]
  },
  {
   "cell_type": "code",
   "execution_count": 13,
   "metadata": {},
   "outputs": [
    {
     "data": {
      "text/plain": [
       "Index(['id', 'age', 'sex', 'migraine', 'chronicity', 'acupuncturist',\n",
       "       'date_randomized', 'practice_id', 'group', 'pk1', 'pk2', 'pk5', 'f1',\n",
       "       'f2', 'f5', 'pf1', 'rlp1', 'rle1', 'ef1', 'ewb1', 'sf1', 'p1', 'gen1',\n",
       "       'hc1', 'pf2', 'rlp2', 'rle2', 'ef2', 'ewb2', 'sf2', 'p2', 'gen2', 'hc2',\n",
       "       'pf5', 'rlp5', 'rle5', 'ef5', 'ewb5', 'sf5', 'p5', 'gen5', 'hc5',\n",
       "       'withdrawal_reason', 'painmedspk1', 'painmedspk2', 'painmedspk5',\n",
       "       'totalfumeds', 'changeinpainmeds', 'prophylacticdose1', 'prophmqs1',\n",
       "       'prophylacticdose2', 'prophmqs2', 'prophylacticdose5', 'prophmqs5',\n",
       "       'allmedsfu', 'allmedsbaseline', 'acuptreatments',\n",
       "       'completedacupuncturetreatment', 'withdrawalafter', 'completer',\n",
       "       'delta2', 'delta5', 'pchange', 'response', 'global1', 'global5',\n",
       "       'globaldelta', 'p2cgp', 'p2cspec', 'p2cacu', 'p2all', 'p2dos', 'p3cgp',\n",
       "       'p3cspec', 'p3cacu', 'p3all', 'p3dos', 'p4cgp', 'p4cspec', 'p4cacu',\n",
       "       'p4all', 'p4dos', 'p5cgp', 'p5cspec', 'p5cacu', 'p5all', 'p5dos',\n",
       "       'totalacu', 'totalother', 'totalgp', 'totalspec', 'totaldos',\n",
       "       'exposure', 'exposuredos'],\n",
       "      dtype='object')"
      ]
     },
     "execution_count": 13,
     "metadata": {},
     "output_type": "execute_result"
    }
   ],
   "source": [
    "df.columns"
   ]
  },
  {
   "cell_type": "code",
   "execution_count": 14,
   "metadata": {},
   "outputs": [],
   "source": [
    "df_select_columns = df[['id','age','sex','acupuncturist','group','migraine','chronicity','delta5','globaldelta','f1','f5','pf1','pf5','ef1','ef5','changeinpainmeds','totaldos']]\n"
   ]
  },
  {
   "cell_type": "code",
   "execution_count": 15,
   "metadata": {
    "collapsed": true
   },
   "outputs": [],
   "source": [
    "df_select_columns.to_excel('./acupuncture_analysis_input.xlsx')"
   ]
  },
  {
   "cell_type": "code",
   "execution_count": null,
   "metadata": {
    "collapsed": true
   },
   "outputs": [],
   "source": [
    "# end script 1"
   ]
  }
 ],
 "metadata": {
  "kernelspec": {
   "display_name": "Python 3",
   "language": "python",
   "name": "python3"
  },
  "language_info": {
   "codemirror_mode": {
    "name": "ipython",
    "version": 3
   },
   "file_extension": ".py",
   "mimetype": "text/x-python",
   "name": "python",
   "nbconvert_exporter": "python",
   "pygments_lexer": "ipython3",
   "version": "3.6.3"
  }
 },
 "nbformat": 4,
 "nbformat_minor": 2
}
